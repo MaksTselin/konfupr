{
  "nbformat": 4,
  "nbformat_minor": 0,
  "metadata": {
    "colab": {
      "provenance": [],
      "include_colab_link": true
    },
    "kernelspec": {
      "name": "python3",
      "display_name": "Python 3"
    },
    "language_info": {
      "name": "python"
    }
  },
  "cells": [
    {
      "cell_type": "markdown",
      "metadata": {
        "id": "view-in-github",
        "colab_type": "text"
      },
      "source": [
        "<a href=\"https://colab.research.google.com/github/MaksTselin/konfupr/blob/main/Pract4.ipynb\" target=\"_parent\"><img src=\"https://colab.research.google.com/assets/colab-badge.svg\" alt=\"Open In Colab\"/></a>"
      ]
    },
    {
      "cell_type": "markdown",
      "source": [
        "Задание 1![image.png](data:image/png;base64,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)"
      ],
      "metadata": {
        "id": "XZK15DOrNViM"
      }
    },
    {
      "cell_type": "code",
      "execution_count": null,
      "metadata": {
        "id": "isY9cL-VNTMK"
      },
      "outputs": [],
      "source": [
        "git commit\n",
        "git tag in\n",
        "git branch first\n",
        "git branch second\n",
        "git commit\n",
        "git commit\n",
        "git checkout first\n",
        "git commit\n",
        "git commit\n",
        "git checkout master\n",
        "git merge first\n",
        "git checkout second\n",
        "git commit\n",
        "git commit\n",
        "git rebase master\n",
        "git checkout master\n",
        "git merge second\n",
        "git checkout in"
      ]
    },
    {
      "cell_type": "markdown",
      "source": [
        "Задание 2"
      ],
      "metadata": {
        "id": "TvW-b331Nhs4"
      }
    },
    {
      "cell_type": "code",
      "source": [
        "git init\n",
        "git config user.name \"Test\"\n",
        "git config user.email \"Test@gmail.com\"\n",
        "touch prog.py\n",
        "echo \"test file\" > prog.py\n",
        "git status\n",
        "git add .\n",
        "git status\n",
        "it commit -m \"test commit\"\n",
        "git log --oneline\n",
        "git log\n"
      ],
      "metadata": {
        "id": "fHflEsxnNewL"
      },
      "execution_count": null,
      "outputs": []
    },
    {
      "cell_type": "markdown",
      "source": [
        "Задание 3"
      ],
      "metadata": {
        "id": "WhCXC-YXOFj1"
      }
    },
    {
      "cell_type": "code",
      "source": [
        "git init --bare server.git\n",
        "git remote add server ../server.git/\n",
        "git remote -v\n",
        "git push server master\n",
        "git clone server.git coder2\n",
        "echo \"Test\" >> readme.md\n",
        "git add readme.md\n",
        "git commit -m \"test info\"\n",
        "git push server master\n",
        "echo \"Test2\" >> readme.md\n",
        "git add readme.md\n",
        "git config user.name \"coder2\"\n",
        "git config user.email \"coder2@gmail.com\"\n",
        "git commit -m \"test2 info\"\n",
        "git pull --no-rebase origin master\n",
        "git add readme.md\n",
        "git commit -m \"Final\"\n",
        "git push origin master\n",
        "git log --graph --all\n"
      ],
      "metadata": {
        "id": "OnmwPxcmOFSe"
      },
      "execution_count": null,
      "outputs": []
    },
    {
      "cell_type": "markdown",
      "source": [
        "Лог"
      ],
      "metadata": {
        "id": "5tQo5eODQVLT"
      }
    },
    {
      "cell_type": "code",
      "source": [
        "(base) mary@iMac-Mary mirea_config % cd server\n",
        "(base) mary@iMac-Mary server % git init --bare\n",
        "Initialized empty Git repository in /Users/mary/Desktop/mirea_config/server/\n",
        "(base) mary@iMac-Mary server % cd ..\n",
        "(base) mary@iMac-Mary mirea_config % cd condig\n",
        "cd: no such file or directory: condig\n",
        "(base) mary@iMac-Mary mirea_config % cd config\n",
        "(base) mary@iMac-Mary config % git remote add server ../server\n",
        "(base) mary@iMac-Mary config % git remote -v\n",
        "server\t../server.git (fetch)\n",
        "server\t../server.git (push)\n",
        "(base) mary@iMac-Mary config % git push server main\n",
        "Enumerating objects: 3, done.\n",
        "Counting objects: 100% (3/3), done.\n",
        "Writing objects: 100% (3/3), 213 bytes | 213.00 KiB/s, done.\n",
        "Total 3 (delta 0), reused 0 (delta 0), pack-reused 0\n",
        "To ../server\n",
        " * [new branch]      main -> main\n",
        "(base) mary@iMac-Mary mirea_config % git clone server \"config 2\"\n",
        "Cloning into 'config 2'...\n",
        "done.\n",
        "(base) mary@iMac-Mary mirea_config %  cd \"config 2\"\n",
        "(base) mary@iMac-Mary config 2 % git config user.name coder2\n",
        "(base) mary@iMac-Mary config 2 % git config user.email coder2@mail.ru\n",
        "(base) mary@iMac-Mary config 2 % touch readme.md\n",
        "(base) mary@iMac-Mary config 2 % nano readme.md\n",
        "(base) mary@iMac-Mary config 2 % git add readme.md\n",
        "(base) mary@iMac-Mary config 2 % git commit -m \"readme.md\"\n",
        "[main 02c3040] readme.md\n",
        " 1 file changed, 3 insertions(+)\n",
        " create mode 100644 readme.md\n",
        "(base) mary@iMac-Mary config 2 % git push ../server main\n",
        "Enumerating objects: 4, done.\n",
        "Counting objects: 100% (4/4), done.\n",
        "Delta compression using up to 8 threads\n",
        "Compressing objects: 100% (2/2), done.\n",
        "Writing objects: 100% (3/3), 288 bytes | 288.00 KiB/s, done.\n",
        "Total 3 (delta 0), reused 0 (delta 0), pack-reused 0\n",
        "To ../server\n",
        "   9851e46..02c3040  main -> main\n",
        "(base) mary@iMac-Mary config 2 % cd ../config\n",
        "(base) mary@iMac-Mary config % git pull server main\n",
        "]remote: Enumerating objects: 4, done.\n",
        "remote: Counting objects: 100% (4/4), done.\n",
        "remote: Compressing objects: 100% (2/2), done.\n",
        "remote: Total 3 (delta 0), reused 0 (delta 0), pack-reused 0\n",
        "Unpacking objects: 100% (3/3), 268 bytes | 268.00 KiB/s, done.\n",
        "From ../server\n",
        " * branch            main       -> FETCH_HEAD\n",
        "   9851e46..02c3040  main       -> server/main\n",
        "Updating 9851e46..02c3040\n",
        "Fast-forward\n",
        " readme.md | 3 +++\n",
        " 1 file changed, 3 insertions(+)\n",
        " create mode 100644 readme.md\n",
        "(base) mary@iMac-Mary config % nano readme.md\n",
        "(base) mary@iMac-Mary config % git add readme.md\n",
        "(base) mary@iMac-Mary config % git commit -m \"readme.md\"\n",
        "[main 1dba8eb] readme.md\n",
        " 1 file changed, 1 insertion(+), 1 deletion(-)\n",
        "(base) mary@iMac-Mary config % git push ../server main\n",
        "Enumerating objects: 5, done.\n",
        "Counting objects: 100% (5/5), done.\n",
        "Delta compression using up to 8 threads\n",
        "Compressing objects: 100% (2/2), done.\n",
        "Writing objects: 100% (3/3), 292 bytes | 292.00 KiB/s, done.\n",
        "Total 3 (delta 0), reused 0 (delta 0), pack-reused 0\n",
        "To ../server\n",
        "   02c3040..1dba8eb  main -> main\n",
        "(base) mary@iMac-Mary config % git log\n",
        "commit 1dba8ebf385cfa9cbe58e9b8b72e62340cb4afb2 (HEAD -> main)\n",
        "Author: coder1 <coder1@mail.ru>\n",
        "Date:   Sun Oct 6 20:06:32 2024 +0300\n",
        "\n",
        "    readme.md\n",
        "\n",
        "commit 02c3040547a4945066d7cc9326936358a6bb8d67 (server/main)\n",
        "Author: coder2 <coder2@mail.ru>\n",
        "Date:   Sun Oct 6 20:03:32 2024 +0300\n",
        "\n",
        "    readme.md\n",
        "\n",
        "commit 9851e466c8dd5e8e023e5910502adb151a559803\n",
        "Author: coder1 <coder1@mail.ru>\n",
        "Date:   Sun Oct 6 19:40:21 2024 +0300\n",
        "\n",
        "    file1.py"
      ],
      "metadata": {
        "id": "REKVROfZQWgW"
      },
      "execution_count": null,
      "outputs": []
    },
    {
      "cell_type": "markdown",
      "source": [
        "Задание 4"
      ],
      "metadata": {
        "id": "HxameQ1JO91b"
      }
    },
    {
      "cell_type": "code",
      "source": [
        "import os\n",
        "import subprocess\n",
        "\n",
        "def get_git_objects():\n",
        "    try:\n",
        "        result = subprocess.run(\n",
        "            ['git', 'rev-list', '--all'],\n",
        "            stdout=subprocess.PIPE,\n",
        "            stderr=subprocess.PIPE,\n",
        "            text=True,\n",
        "            check=True\n",
        "        )\n",
        "        objects = result.stdout.splitlines()\n",
        "\n",
        "        for obj in objects:\n",
        "            print(f\"Git Commit: {obj}\")\n",
        "            try:\n",
        "                content = subprocess.run(\n",
        "                    ['git', 'cat-file', '-p', obj],\n",
        "                    stdout=subprocess.PIPE,\n",
        "                    stderr=subprocess.PIPE,\n",
        "                    text=True,\n",
        "                    check=True\n",
        "                )\n",
        "                print(content.stdout)\n",
        "            except subprocess.CalledProcessError as e:\n",
        "                print(f\"Error {obj}: {e.stderr}\")\n",
        "\n",
        "    except subprocess.CalledProcessError as e:\n",
        "        print(f\"Error: {e.stderr}\")\n",
        "\n",
        "if __name__ == \"__main__\":\n",
        "    if not os.path.exists('.git'):\n",
        "        print(\"Git not found\")\n",
        "    else:\n",
        "        get_git_objects()"
      ],
      "metadata": {
        "id": "QTa9EaxkO-_c"
      },
      "execution_count": null,
      "outputs": []
    }
  ]
}